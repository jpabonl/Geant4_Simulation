{
  "nbformat": 4,
  "nbformat_minor": 0,
  "metadata": {
    "colab": {
      "provenance": []
    },
    "kernelspec": {
      "name": "python3",
      "display_name": "Python 3"
    },
    "language_info": {
      "name": "python"
    }
  },
  "cells": [
    {
      "cell_type": "code",
      "execution_count": null,
      "metadata": {
        "colab": {
          "base_uri": "https://localhost:8080/"
        },
        "id": "_b0wrIaijhUM",
        "outputId": "d9720013-b445-41be-c467-d8a482cedfbb"
      },
      "outputs": [
        {
          "output_type": "stream",
          "name": "stdout",
          "text": [
            "Overwriting G$_S_Material.cpp\n"
          ]
        }
      ],
      "source": [
        "%%writefile G$_S_Material.cpp\n",
        "#include \"G4RunManager.hh\"\n",
        "#include \"G4UImanager.hh\"\n",
        "#include \"G4UIterminal.hh\"\n",
        "#include \"G4VisExecutive.hh\"\n",
        "#include \"G4UIExecutive.hh\"\n",
        "\n",
        "#include \"G4Box.hh\"\n",
        "#include \"G4Material.hh\"\n",
        "#include \"G4NistManager.hh\"\n",
        "#include \"G4LogicalVolume.hh\"\n",
        "#include \"G4PVPlacement.hh\"\n",
        "#include \"G4SystemOfUnits.hh\"\n",
        "\n",
        "int main(int argc, char** argv) {\n",
        "    // Crear el gestor de ejecución de Geant4\n",
        "    G4RunManager* runManager = new G4RunManager;\n",
        "\n",
        "    // Crear el gestor de UI (Interfaz de Usuario)\n",
        "    G4UImanager* UImanager = G4UImanager::GetUIpointer();\n",
        "\n",
        "    // Crear el mundo geométrico\n",
        "    G4Box* worldSolid = new G4Box(\"World\", 1.0*m, 1.0*m, 1.0*m);\n",
        "    G4LogicalVolume* worldLogical = new G4LogicalVolume(worldSolid, G4NistManager::Instance()->FindOrBuildMaterial(\"G4_AIR\"), \"World\");\n",
        "    G4VPhysicalVolume* worldPhysical = new G4PVPlacement(0, G4ThreeVector(), worldLogical, \"World\", 0, false, 0);\n",
        "\n",
        "    // Crear el cubo lleno de nitrógeno\n",
        "    G4Box* cubeSolid = new G4Box(\"Cube\", 0.5*m, 0.5*m, 0.5*m);\n",
        "    G4LogicalVolume* cubeLogical = new G4LogicalVolume(cubeSolid, G4NistManager::Instance()->FindOrBuildMaterial(\"G4_N\"), \"Cube\");\n",
        "    G4VPhysicalVolume* cubePhysical = new G4PVPlacement(0, G4ThreeVector(), cubeLogical, \"Cube\", worldLogical, false, 0);\n",
        "\n",
        "    // Ejecutar la simulación\n",
        "    runManager->BeamOn(10); // Simular 10 eventos\n",
        "\n",
        "    // Limpiar y cerrar\n",
        "    delete ui;\n",
        "    delete visManager;\n",
        "    delete runManager;\n",
        "\n",
        "    return 0;\n",
        "}\n"
      ]
    }
  ]
}
